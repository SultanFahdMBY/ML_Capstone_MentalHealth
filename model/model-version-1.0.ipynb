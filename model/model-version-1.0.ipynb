{
 "cells": [
  {
   "cell_type": "code",
   "execution_count": 1,
   "metadata": {},
   "outputs": [
    {
     "name": "stderr",
     "output_type": "stream",
     "text": [
      "c:\\Python\\Python311\\Lib\\site-packages\\tqdm\\auto.py:21: TqdmWarning: IProgress not found. Please update jupyter and ipywidgets. See https://ipywidgets.readthedocs.io/en/stable/user_install.html\n",
      "  from .autonotebook import tqdm as notebook_tqdm\n"
     ]
    },
    {
     "name": "stdout",
     "output_type": "stream",
     "text": [
      "WARNING:tensorflow:From c:\\Python\\Python311\\Lib\\site-packages\\tf_keras\\src\\losses.py:2976: The name tf.losses.sparse_softmax_cross_entropy is deprecated. Please use tf.compat.v1.losses.sparse_softmax_cross_entropy instead.\n",
      "\n"
     ]
    },
    {
     "name": "stderr",
     "output_type": "stream",
     "text": [
      "[nltk_data] Downloading package stopwords to\n",
      "[nltk_data]     C:\\Users\\asnaw\\AppData\\Roaming\\nltk_data...\n",
      "[nltk_data]   Package stopwords is already up-to-date!\n"
     ]
    },
    {
     "data": {
      "text/plain": [
       "True"
      ]
     },
     "execution_count": 1,
     "metadata": {},
     "output_type": "execute_result"
    }
   ],
   "source": [
    "# Untuk manipulasi data\n",
    "import os\n",
    "import pandas as pd\n",
    "import numpy as np\n",
    "import seaborn as sns\n",
    "import matplotlib.pyplot as plt\n",
    "\n",
    "# Untuk nlp\n",
    "import nltk\n",
    "import re\n",
    "import tensorflow as tf\n",
    "import tensorflow_hub as hub\n",
    "from tensorflow import keras\n",
    "from tensorflow.keras.preprocessing.text import Tokenizer\n",
    "from tensorflow.keras.preprocessing.sequence import pad_sequences\n",
    "from nltk.corpus import stopwords\n",
    "from nltk.stem.porter import PorterStemmer\n",
    "from wordcloud import WordCloud, STOPWORDS\n",
    "nltk.download('stopwords')"
   ]
  },
  {
   "cell_type": "code",
   "execution_count": 2,
   "metadata": {},
   "outputs": [
    {
     "data": {
      "text/html": [
       "<div>\n",
       "<style scoped>\n",
       "    .dataframe tbody tr th:only-of-type {\n",
       "        vertical-align: middle;\n",
       "    }\n",
       "\n",
       "    .dataframe tbody tr th {\n",
       "        vertical-align: top;\n",
       "    }\n",
       "\n",
       "    .dataframe thead th {\n",
       "        text-align: right;\n",
       "    }\n",
       "</style>\n",
       "<table border=\"1\" class=\"dataframe\">\n",
       "  <thead>\n",
       "    <tr style=\"text-align: right;\">\n",
       "      <th></th>\n",
       "      <th>Text</th>\n",
       "      <th>Mood</th>\n",
       "    </tr>\n",
       "  </thead>\n",
       "  <tbody>\n",
       "    <tr>\n",
       "      <th>0</th>\n",
       "      <td>i was angry when my boyfriend did not turn up ...</td>\n",
       "      <td>anger</td>\n",
       "    </tr>\n",
       "    <tr>\n",
       "      <th>1</th>\n",
       "      <td>ive been feeling kind of bitchy lately</td>\n",
       "      <td>anger</td>\n",
       "    </tr>\n",
       "    <tr>\n",
       "      <th>2</th>\n",
       "      <td>i am relieved but now burden with the thing ca...</td>\n",
       "      <td>anger</td>\n",
       "    </tr>\n",
       "    <tr>\n",
       "      <th>3</th>\n",
       "      <td>i love not feeling rushed</td>\n",
       "      <td>anger</td>\n",
       "    </tr>\n",
       "    <tr>\n",
       "      <th>4</th>\n",
       "      <td>i need to run longer distances without feeling...</td>\n",
       "      <td>anger</td>\n",
       "    </tr>\n",
       "    <tr>\n",
       "      <th>...</th>\n",
       "      <td>...</td>\n",
       "      <td>...</td>\n",
       "    </tr>\n",
       "    <tr>\n",
       "      <th>39995</th>\n",
       "      <td>next weeks dlc is fail  cant wait for maiden i...</td>\n",
       "      <td>worry</td>\n",
       "    </tr>\n",
       "    <tr>\n",
       "      <th>39996</th>\n",
       "      <td>just finished curling her hair and now has to ...</td>\n",
       "      <td>worry</td>\n",
       "    </tr>\n",
       "    <tr>\n",
       "      <th>39997</th>\n",
       "      <td>organic chemistry  ah so confusing</td>\n",
       "      <td>worry</td>\n",
       "    </tr>\n",
       "    <tr>\n",
       "      <th>39998</th>\n",
       "      <td>and all woman who transfer their first impress...</td>\n",
       "      <td>worry</td>\n",
       "    </tr>\n",
       "    <tr>\n",
       "      <th>39999</th>\n",
       "      <td>labarceloneta haha  im convinced youd be great...</td>\n",
       "      <td>worry</td>\n",
       "    </tr>\n",
       "  </tbody>\n",
       "</table>\n",
       "<p>40000 rows × 2 columns</p>\n",
       "</div>"
      ],
      "text/plain": [
       "                                                    Text   Mood\n",
       "0      i was angry when my boyfriend did not turn up ...  anger\n",
       "1                 ive been feeling kind of bitchy lately  anger\n",
       "2      i am relieved but now burden with the thing ca...  anger\n",
       "3                              i love not feeling rushed  anger\n",
       "4      i need to run longer distances without feeling...  anger\n",
       "...                                                  ...    ...\n",
       "39995  next weeks dlc is fail  cant wait for maiden i...  worry\n",
       "39996  just finished curling her hair and now has to ...  worry\n",
       "39997                 organic chemistry  ah so confusing  worry\n",
       "39998  and all woman who transfer their first impress...  worry\n",
       "39999  labarceloneta haha  im convinced youd be great...  worry\n",
       "\n",
       "[40000 rows x 2 columns]"
      ]
     },
     "execution_count": 2,
     "metadata": {},
     "output_type": "execute_result"
    }
   ],
   "source": [
    "pwd = os.getcwd()\n",
    "df = pd.read_csv(pwd + '\\data\\Dataset_Capstone1.csv')\n",
    "df"
   ]
  },
  {
   "cell_type": "code",
   "execution_count": 3,
   "metadata": {},
   "outputs": [
    {
     "data": {
      "text/plain": [
       "(40000, 2)"
      ]
     },
     "execution_count": 3,
     "metadata": {},
     "output_type": "execute_result"
    }
   ],
   "source": [
    "df.shape"
   ]
  },
  {
   "cell_type": "code",
   "execution_count": 4,
   "metadata": {},
   "outputs": [
    {
     "name": "stdout",
     "output_type": "stream",
     "text": [
      "<class 'pandas.core.frame.DataFrame'>\n",
      "RangeIndex: 40000 entries, 0 to 39999\n",
      "Data columns (total 2 columns):\n",
      " #   Column  Non-Null Count  Dtype \n",
      "---  ------  --------------  ----- \n",
      " 0   Text    40000 non-null  object\n",
      " 1   Mood    40000 non-null  object\n",
      "dtypes: object(2)\n",
      "memory usage: 625.1+ KB\n"
     ]
    }
   ],
   "source": [
    "df.info()"
   ]
  },
  {
   "cell_type": "code",
   "execution_count": 5,
   "metadata": {},
   "outputs": [
    {
     "data": {
      "text/html": [
       "<div>\n",
       "<style scoped>\n",
       "    .dataframe tbody tr th:only-of-type {\n",
       "        vertical-align: middle;\n",
       "    }\n",
       "\n",
       "    .dataframe tbody tr th {\n",
       "        vertical-align: top;\n",
       "    }\n",
       "\n",
       "    .dataframe thead th {\n",
       "        text-align: right;\n",
       "    }\n",
       "</style>\n",
       "<table border=\"1\" class=\"dataframe\">\n",
       "  <thead>\n",
       "    <tr style=\"text-align: right;\">\n",
       "      <th></th>\n",
       "      <th>count</th>\n",
       "    </tr>\n",
       "  </thead>\n",
       "  <tbody>\n",
       "    <tr>\n",
       "      <th>Text</th>\n",
       "      <td>0</td>\n",
       "    </tr>\n",
       "    <tr>\n",
       "      <th>Mood</th>\n",
       "      <td>0</td>\n",
       "    </tr>\n",
       "  </tbody>\n",
       "</table>\n",
       "</div>"
      ],
      "text/plain": [
       "      count\n",
       "Text      0\n",
       "Mood      0"
      ]
     },
     "execution_count": 5,
     "metadata": {},
     "output_type": "execute_result"
    }
   ],
   "source": [
    "pd.DataFrame(df.isnull().sum(), columns = [\"count\"])"
   ]
  },
  {
   "cell_type": "code",
   "execution_count": 6,
   "metadata": {},
   "outputs": [
    {
     "data": {
      "text/plain": [
       "0"
      ]
     },
     "execution_count": 6,
     "metadata": {},
     "output_type": "execute_result"
    }
   ],
   "source": [
    "df.duplicated().sum()"
   ]
  },
  {
   "cell_type": "code",
   "execution_count": 7,
   "metadata": {},
   "outputs": [
    {
     "data": {
      "text/html": [
       "<div>\n",
       "<style scoped>\n",
       "    .dataframe tbody tr th:only-of-type {\n",
       "        vertical-align: middle;\n",
       "    }\n",
       "\n",
       "    .dataframe tbody tr th {\n",
       "        vertical-align: top;\n",
       "    }\n",
       "\n",
       "    .dataframe thead th {\n",
       "        text-align: right;\n",
       "    }\n",
       "</style>\n",
       "<table border=\"1\" class=\"dataframe\">\n",
       "  <thead>\n",
       "    <tr style=\"text-align: right;\">\n",
       "      <th></th>\n",
       "      <th>Text</th>\n",
       "      <th>Mood</th>\n",
       "    </tr>\n",
       "  </thead>\n",
       "  <tbody>\n",
       "  </tbody>\n",
       "</table>\n",
       "</div>"
      ],
      "text/plain": [
       "Empty DataFrame\n",
       "Columns: [Text, Mood]\n",
       "Index: []"
      ]
     },
     "execution_count": 7,
     "metadata": {},
     "output_type": "execute_result"
    }
   ],
   "source": [
    "df[df.duplicated()]"
   ]
  },
  {
   "cell_type": "code",
   "execution_count": 8,
   "metadata": {},
   "outputs": [
    {
     "name": "stderr",
     "output_type": "stream",
     "text": [
      "C:\\Users\\asnaw\\AppData\\Local\\Temp\\ipykernel_12328\\2652528123.py:14: FutureWarning: Downcasting behavior in `replace` is deprecated and will be removed in a future version. To retain the old behavior, explicitly call `result.infer_objects(copy=False)`. To opt-in to the future behavior, set `pd.set_option('future.no_silent_downcasting', True)`\n",
      "  df['Mood'] = df['Mood'].replace(mood_to_number)\n"
     ]
    },
    {
     "data": {
      "text/html": [
       "<div>\n",
       "<style scoped>\n",
       "    .dataframe tbody tr th:only-of-type {\n",
       "        vertical-align: middle;\n",
       "    }\n",
       "\n",
       "    .dataframe tbody tr th {\n",
       "        vertical-align: top;\n",
       "    }\n",
       "\n",
       "    .dataframe thead th {\n",
       "        text-align: right;\n",
       "    }\n",
       "</style>\n",
       "<table border=\"1\" class=\"dataframe\">\n",
       "  <thead>\n",
       "    <tr style=\"text-align: right;\">\n",
       "      <th></th>\n",
       "      <th>Text</th>\n",
       "      <th>Mood</th>\n",
       "    </tr>\n",
       "  </thead>\n",
       "  <tbody>\n",
       "    <tr>\n",
       "      <th>0</th>\n",
       "      <td>i was angry when my boyfriend did not turn up ...</td>\n",
       "      <td>0</td>\n",
       "    </tr>\n",
       "    <tr>\n",
       "      <th>1</th>\n",
       "      <td>ive been feeling kind of bitchy lately</td>\n",
       "      <td>0</td>\n",
       "    </tr>\n",
       "    <tr>\n",
       "      <th>2</th>\n",
       "      <td>i am relieved but now burden with the thing ca...</td>\n",
       "      <td>0</td>\n",
       "    </tr>\n",
       "    <tr>\n",
       "      <th>3</th>\n",
       "      <td>i love not feeling rushed</td>\n",
       "      <td>0</td>\n",
       "    </tr>\n",
       "    <tr>\n",
       "      <th>4</th>\n",
       "      <td>i need to run longer distances without feeling...</td>\n",
       "      <td>0</td>\n",
       "    </tr>\n",
       "    <tr>\n",
       "      <th>...</th>\n",
       "      <td>...</td>\n",
       "      <td>...</td>\n",
       "    </tr>\n",
       "    <tr>\n",
       "      <th>39995</th>\n",
       "      <td>next weeks dlc is fail  cant wait for maiden i...</td>\n",
       "      <td>7</td>\n",
       "    </tr>\n",
       "    <tr>\n",
       "      <th>39996</th>\n",
       "      <td>just finished curling her hair and now has to ...</td>\n",
       "      <td>7</td>\n",
       "    </tr>\n",
       "    <tr>\n",
       "      <th>39997</th>\n",
       "      <td>organic chemistry  ah so confusing</td>\n",
       "      <td>7</td>\n",
       "    </tr>\n",
       "    <tr>\n",
       "      <th>39998</th>\n",
       "      <td>and all woman who transfer their first impress...</td>\n",
       "      <td>7</td>\n",
       "    </tr>\n",
       "    <tr>\n",
       "      <th>39999</th>\n",
       "      <td>labarceloneta haha  im convinced youd be great...</td>\n",
       "      <td>7</td>\n",
       "    </tr>\n",
       "  </tbody>\n",
       "</table>\n",
       "<p>40000 rows × 2 columns</p>\n",
       "</div>"
      ],
      "text/plain": [
       "                                                    Text  Mood\n",
       "0      i was angry when my boyfriend did not turn up ...     0\n",
       "1                 ive been feeling kind of bitchy lately     0\n",
       "2      i am relieved but now burden with the thing ca...     0\n",
       "3                              i love not feeling rushed     0\n",
       "4      i need to run longer distances without feeling...     0\n",
       "...                                                  ...   ...\n",
       "39995  next weeks dlc is fail  cant wait for maiden i...     7\n",
       "39996  just finished curling her hair and now has to ...     7\n",
       "39997                 organic chemistry  ah so confusing     7\n",
       "39998  and all woman who transfer their first impress...     7\n",
       "39999  labarceloneta haha  im convinced youd be great...     7\n",
       "\n",
       "[40000 rows x 2 columns]"
      ]
     },
     "execution_count": 8,
     "metadata": {},
     "output_type": "execute_result"
    }
   ],
   "source": [
    "# Dictionary untuk memetakan label mood ke angka\n",
    "mood_to_number = {\n",
    "    'anger': 0,\n",
    "    'fear': 1,\n",
    "    'happiness': 2,\n",
    "    'joy': 3,\n",
    "    'love': 4,\n",
    "    'neutral': 5,\n",
    "    'sadness': 6,\n",
    "    'worry': 7\n",
    "}\n",
    "\n",
    "# Mengganti label mood menjadi angka\n",
    "df['Mood'] = df['Mood'].replace(mood_to_number)\n",
    "\n",
    "# Menampilkan DataFrame yang telah dimodifikasi\n",
    "df"
   ]
  },
  {
   "cell_type": "code",
   "execution_count": 9,
   "metadata": {},
   "outputs": [],
   "source": [
    "# Melakukan stemming, penghapusan tanda baca, dan penghapusan stopwords\n",
    "ps = PorterStemmer()\n",
    "corpus = []\n",
    "for i in range(len(df[\"Text\"])):\n",
    "  # Penghapusan tanda baca\n",
    "  review = re.sub(\"[^a-zA-Z]\", \" \", df[\"Text\"][i])\n",
    "\n",
    "  # Penghapusan emoji dan emoticon\n",
    "  emoji_pattern = re.compile(\"[\"\n",
    "                           u\"\\U0001F600-\\U0001F64F\" # emoticons\n",
    "                           u\"\\U0001F300-\\U0001F5FF\" # symbols & pictographs\n",
    "                           u\"\\U0001F680-\\U0001F6FF\" # transport & map symbols\n",
    "                           u\"\\U0001F1E0-\\U0001F1FF\" # flags (iOS)\n",
    "                           u\"\\U00002702-\\U000027B0\"\n",
    "                           u\"\\U000024C2-\\U0001F251\"\n",
    "                           \"]+\", flags = re.UNICODE)\n",
    "  review = emoji_pattern.sub(r'', review)\n",
    "\n",
    "  # Membuat kalimat menjadi huruf kecil dan memisahnya menjadi kata\n",
    "  review = review.lower()\n",
    "  review = review.split()\n",
    "\n",
    "  # Penghapusan stop words dan stemming\n",
    "  review = [ps.stem(word) for word in review if word not in stopwords.words(\"english\")]\n",
    "  review = \" \".join(review)\n",
    "  corpus.append(review)\n",
    "\n",
    "df[\"Text\"] = corpus"
   ]
  },
  {
   "cell_type": "code",
   "execution_count": 10,
   "metadata": {},
   "outputs": [],
   "source": [
    "from tensorflow.keras.callbacks import EarlyStopping, LearningRateScheduler\n",
    "from sklearn.model_selection import train_test_split\n",
    "from sklearn.metrics import classification_report\n",
    "from sklearn.model_selection import StratifiedKFold"
   ]
  },
  {
   "cell_type": "code",
   "execution_count": 33,
   "metadata": {},
   "outputs": [],
   "source": [
    "# Membagi data menjadi train dan validation\n",
    "training_sentences, testing_sentences, training_labels, testing_labels = train_test_split(df[\"Text\"], df[\"Mood\"], test_size = 0.2, stratify = df[\"Mood\"])\n",
    "\n",
    "# Melakukan fitting pada Tokenizer untuk mendapatkan word_index\n",
    "tokenizer = Tokenizer(num_words = 25000, oov_token = \"<OOV>\")\n",
    "tokenizer.fit_on_texts(training_sentences)\n",
    "word_index = tokenizer.word_index\n",
    "\n",
    "# Melakukan sequencing untuk menerjemahkan kedalam word_index\n",
    "training_sequences = tokenizer.texts_to_sequences(training_sentences)\n",
    "testing_sequences = tokenizer.texts_to_sequences(testing_sentences)\n",
    "\n",
    "# Melakukan padding untuk menyeragamkan ukuran input ke neural network\n",
    "training_padded = pad_sequences(training_sequences, maxlen = 120, padding = \"post\")\n",
    "testing_padded = pad_sequences(testing_sequences, maxlen = 120, padding = \"post\")"
   ]
  },
  {
   "cell_type": "code",
   "execution_count": 34,
   "metadata": {},
   "outputs": [],
   "source": [
    "from tensorflow.keras.layers import Embedding, GlobalAveragePooling1D, Dense, LSTM, Bidirectional, Dropout\n",
    "from tensorflow.keras import regularizers"
   ]
  },
  {
   "cell_type": "code",
   "execution_count": 48,
   "metadata": {},
   "outputs": [],
   "source": [
    "# Membuat model neural network\n",
    "model = tf.keras.Sequential([\n",
    "    Embedding(input_dim = 25000, output_dim = 400, input_length = 120),\n",
    "    Bidirectional(tf.keras.layers.LSTM(40, kernel_regularizer=regularizers.l2(0.001), return_sequences=True)),\n",
    "    Bidirectional(tf.keras.layers.LSTM(10, kernel_regularizer=regularizers.l2(0.001))),\n",
    "    tf.keras.layers.Dropout(0.5),\n",
    "    Dense(8, activation = \"softmax\")])\n"
   ]
  },
  {
   "cell_type": "code",
   "execution_count": 51,
   "metadata": {},
   "outputs": [],
   "source": [
    "from tensorflow.keras.optimizers.schedules import ExponentialDecay\n",
    "\n",
    "initial_learning_rate = 0.001\n",
    "lr_schedule = ExponentialDecay(\n",
    "    initial_learning_rate,\n",
    "    decay_steps=100000,\n",
    "    decay_rate=0.96,\n",
    "    staircase=True\n",
    ")\n",
    "\n",
    "model.compile(loss=\"sparse_categorical_crossentropy\", optimizer=tf.keras.optimizers.Adam(learning_rate=lr_schedule), metrics=[\"accuracy\"])\n"
   ]
  },
  {
   "cell_type": "code",
   "execution_count": 52,
   "metadata": {},
   "outputs": [
    {
     "name": "stdout",
     "output_type": "stream",
     "text": [
      "Epoch 1/100\n",
      "63/63 - 73s - 1s/step - accuracy: 0.2348 - loss: 2.1809 - val_accuracy: 0.2253 - val_loss: 1.7878\n",
      "Epoch 2/100\n",
      "63/63 - 55s - 868ms/step - accuracy: 0.3091 - loss: 1.7595 - val_accuracy: 0.4767 - val_loss: 1.4772\n",
      "Epoch 3/100\n",
      "63/63 - 55s - 867ms/step - accuracy: 0.4225 - loss: 1.4825 - val_accuracy: 0.5242 - val_loss: 1.3267\n",
      "Epoch 4/100\n",
      "63/63 - 59s - 940ms/step - accuracy: 0.5184 - loss: 1.3242 - val_accuracy: 0.5934 - val_loss: 1.2084\n",
      "Epoch 5/100\n",
      "63/63 - 59s - 929ms/step - accuracy: 0.5966 - loss: 1.1553 - val_accuracy: 0.6044 - val_loss: 1.0900\n",
      "Epoch 6/100\n",
      "63/63 - 59s - 944ms/step - accuracy: 0.6868 - loss: 0.9495 - val_accuracy: 0.6913 - val_loss: 1.0075\n",
      "Epoch 7/100\n",
      "63/63 - 56s - 882ms/step - accuracy: 0.7868 - loss: 0.7847 - val_accuracy: 0.6964 - val_loss: 0.9693\n",
      "Epoch 8/100\n",
      "63/63 - 56s - 886ms/step - accuracy: 0.8422 - loss: 0.6643 - val_accuracy: 0.7122 - val_loss: 0.9605\n",
      "Epoch 9/100\n",
      "63/63 - 56s - 883ms/step - accuracy: 0.8753 - loss: 0.5670 - val_accuracy: 0.7090 - val_loss: 0.9936\n",
      "Epoch 10/100\n",
      "63/63 - 56s - 887ms/step - accuracy: 0.9002 - loss: 0.4925 - val_accuracy: 0.7130 - val_loss: 0.9916\n",
      "Epoch 11/100\n",
      "63/63 - 56s - 891ms/step - accuracy: 0.9125 - loss: 0.4443 - val_accuracy: 0.7111 - val_loss: 1.0315\n",
      "Epoch 12/100\n",
      "63/63 - 56s - 893ms/step - accuracy: 0.9223 - loss: 0.4028 - val_accuracy: 0.7101 - val_loss: 1.0813\n",
      "Epoch 13/100\n",
      "63/63 - 56s - 887ms/step - accuracy: 0.9292 - loss: 0.3731 - val_accuracy: 0.7114 - val_loss: 1.1136\n",
      "Epoch 14/100\n",
      "63/63 - 56s - 886ms/step - accuracy: 0.9363 - loss: 0.3376 - val_accuracy: 0.7065 - val_loss: 1.1312\n",
      "Epoch 15/100\n",
      "63/63 - 56s - 889ms/step - accuracy: 0.9414 - loss: 0.3211 - val_accuracy: 0.7122 - val_loss: 1.2056\n",
      "Epoch 16/100\n",
      "63/63 - 56s - 894ms/step - accuracy: 0.9454 - loss: 0.2978 - val_accuracy: 0.7041 - val_loss: 1.2104\n",
      "Epoch 17/100\n",
      "63/63 - 56s - 890ms/step - accuracy: 0.9479 - loss: 0.2842 - val_accuracy: 0.6971 - val_loss: 1.2580\n",
      "Epoch 18/100\n",
      "63/63 - 56s - 887ms/step - accuracy: 0.9523 - loss: 0.2714 - val_accuracy: 0.7050 - val_loss: 1.2538\n"
     ]
    }
   ],
   "source": [
    "early_stopping = tf.keras.callbacks.EarlyStopping(patience = 10)\n",
    "\n",
    "# Melakukan trainning\n",
    "num_epochs = 100\n",
    "history = model.fit(training_padded, training_labels, epochs = num_epochs, batch_size = 512, validation_data = (testing_padded, testing_labels), callbacks = [early_stopping], verbose = 2)"
   ]
  }
 ],
 "metadata": {
  "kernelspec": {
   "display_name": "Python 3",
   "language": "python",
   "name": "python3"
  },
  "language_info": {
   "codemirror_mode": {
    "name": "ipython",
    "version": 3
   },
   "file_extension": ".py",
   "mimetype": "text/x-python",
   "name": "python",
   "nbconvert_exporter": "python",
   "pygments_lexer": "ipython3",
   "version": "3.11.7"
  }
 },
 "nbformat": 4,
 "nbformat_minor": 2
}
